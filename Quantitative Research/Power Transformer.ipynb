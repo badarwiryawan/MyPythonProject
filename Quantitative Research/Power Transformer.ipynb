{
 "cells": [
  {
   "cell_type": "code",
   "execution_count": 1,
   "metadata": {},
   "outputs": [],
   "source": [
    "import pandas as pd\n",
    "from scipy import stats\n",
    "import seaborn as sns\n",
    "import matplotlib.pyplot as plt"
   ]
  },
  {
   "cell_type": "code",
   "execution_count": null,
   "metadata": {},
   "outputs": [],
   "source": [
    "file_path = input(\"Masukkan Lokasi File (Klik kanan > Copy as path): \")\n",
    "variabel = input(\"Masukkan Variabel (var1, var2, var3): \")\n",
    "method = input(\"Pilih Metode Transformasi (1: Yeo-Johnson, 2: Box-Cox): \")\n",
    "\n",
    "#------------CONTOH INPUT--------------\n",
    "#file_path = D:\\Programming\\\\advertising.csv Sumber: https://www.kaggle.com/datasets/mehmetisik/advertisingcsv/data\n",
    "#variabel = TV, radio, newspaper, sales\n",
    "\n",
    "data = pd.read_csv(file_path) #----> Untuk Data .CSV\n",
    "#data = pd.read_excel(file_path) #----> Untuk Data Excel (.XLSX)\n",
    "\n",
    "variabel_list = variabel.split(\", \")\n",
    "\n",
    "def yeo_johnson(file):\n",
    "\n",
    "    lambda_list = []\n",
    "\n",
    "    for a in range(len(variabel_list)):   \n",
    "        lambda_value = stats.yeojohnson_normmax(file[variabel_list[a]])\n",
    "        lambda_list.append(lambda_value)\n",
    "\n",
    "    yeo_transformed_dict = {}\n",
    "\n",
    "    for b in range(len(variabel_list)):\n",
    "        yeo_transformed = stats.yeojohnson(data[variabel_list[b]], lmbda=lambda_list[b])\n",
    "        yeo_transformed_dict.update({f\"{data.columns[b]}\": yeo_transformed})\n",
    "\n",
    "    data_transformed_yeo = pd.DataFrame(yeo_transformed_dict)\n",
    "\n",
    "    print(data_transformed_yeo)\n",
    "\n",
    "def box_cox(file):\n",
    "\n",
    "    min_list = list(data.min())\n",
    "\n",
    "    if 0 in min_list:\n",
    "        print(\"Data tidak dapat ditransformasi Box-Cox karena ada nilai 0. Mohon gunakan Yeo-Johnson.\")\n",
    "    elif any(a < 0 for a in min_list):\n",
    "        print(\"Data tidak dapat ditransformasi Box-Cox karena ada nilai negatif. Mohon gunakan Yeo-Johnson.\")\n",
    "    else:\n",
    "        box_lambda_list = []\n",
    "\n",
    "        for b in range(len(variabel_list)):\n",
    "            box_lambda = stats.boxcox_normmax(data[variabel_list[b]])\n",
    "            box_lambda_list.append(box_lambda)\n",
    "\n",
    "        box_transformed_list = {}\n",
    "\n",
    "        for c in range(len(variabel_list)):\n",
    "            box_transformed =  stats.boxcox(data[variabel_list[c]], lmbda=box_lambda_list[c])\n",
    "            box_transformed_list.update({f\"{variabel_list[c]}\": box_transformed})\n",
    "\n",
    "        data_transformed_box = pd.DataFrame(box_transformed_list)\n",
    "        \n",
    "        print(data_transformed_box)\n",
    "\n",
    "if method == \"1\":\n",
    "    yeo_johnson(data)\n",
    "elif method == \"2\":\n",
    "    box_cox(data)"
   ]
  }
 ],
 "metadata": {
  "kernelspec": {
   "display_name": "Python 3",
   "language": "python",
   "name": "python3"
  },
  "language_info": {
   "codemirror_mode": {
    "name": "ipython",
    "version": 3
   },
   "file_extension": ".py",
   "mimetype": "text/x-python",
   "name": "python",
   "nbconvert_exporter": "python",
   "pygments_lexer": "ipython3",
   "version": "3.10.6"
  }
 },
 "nbformat": 4,
 "nbformat_minor": 2
}
